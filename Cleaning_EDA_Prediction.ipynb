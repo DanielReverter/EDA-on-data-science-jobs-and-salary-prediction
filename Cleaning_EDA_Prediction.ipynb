{
 "cells": [
  {
   "cell_type": "code",
   "execution_count": null,
   "id": "386b31cf",
   "metadata": {},
   "outputs": [],
   "source": [
    "# Data\n",
    "import pandas as pd\n",
    "import numpy as np\n",
    "import country_converter as coco\n",
    "import regex as re\n",
    "\n",
    "# Visualization and settings\n",
    "from matplotlib import pyplot as plt\n",
    "%matplotlib inline\n",
    "%config Inlinebackend.figure_format = 'retina'\n",
    "\n",
    "import seaborn as sns\n",
    "sns.set_context('poster')\n",
    "sns.set(rc={'figure.figsize': (16., 9.)})\n",
    "sns.set_style('whitegrid')\n",
    "\n",
    "import plotly.express as px"
   ]
  },
  {
   "cell_type": "code",
   "execution_count": null,
   "id": "40aa2eaa",
   "metadata": {},
   "outputs": [],
   "source": [
    "df = pd.read_csv('Data/data_science_jobs_dataset.csv')"
   ]
  },
  {
   "cell_type": "code",
   "execution_count": null,
   "id": "4ca165fc",
   "metadata": {},
   "outputs": [],
   "source": [
    "df.sample(3)"
   ]
  },
  {
   "cell_type": "markdown",
   "id": "a46fee3a",
   "metadata": {},
   "source": [
    "## Cleaning"
   ]
  },
  {
   "cell_type": "markdown",
   "id": "7ae6dd3b",
   "metadata": {},
   "source": [
    "### Abreviations"
   ]
  },
  {
   "cell_type": "markdown",
   "id": "7a64c7e5",
   "metadata": {},
   "source": [
    "We'll change the abreviations to the actual meaning for extra clarity:\n",
    "- Experience level:\n",
    "    - EN: Junior\n",
    "    - MI: Intermediate\n",
    "    - SE: Senior\n",
    "    - EX: Executive\n",
    "- Employment:\n",
    "    - FT: Full time\n",
    "    - PT: Part time\n",
    "    - CT: Contract\n",
    "    - FL: Freelance\n",
    "- Country:\n",
    "    - Every ISO2 abreviation is changed to the short name of the country\n",
    "- Remote:\n",
    "    - 100: Fully Remote\n",
    "    - 50: Partially Remote\n",
    "    - 0: No remote work\n",
    "- Company size:\n",
    "    - S: Small (less than 50 employees)\n",
    "    - M: Medium (between 50 and 150 employees)\n",
    "    - L: Large (more than 150 employees)"
   ]
  },
  {
   "cell_type": "code",
   "execution_count": null,
   "id": "eb1a3afe",
   "metadata": {},
   "outputs": [],
   "source": [
    "experience_rename = {\"EN\":\"Junior\", \"MI\":\"Intermediate\", \"SE\":\"Senior\", \"EX\":\"Executive\"}\n",
    "employment_rename = {\"FT\":\"Full time\", \"PT\":\"Part time\", \"CT\":\"Contract\", \"FL\":\"Freelance\"}\n",
    "country_rename = coco.CountryConverter().get_correspondence_dict('ISO2', 'name_short')\n",
    "country_rename[\"GB\"] = \"United Kingdom\" #GB'S conversion is missing from the premade dictionary, so we add it manually\n",
    "remote_rename = {100:\"Fully remote\", 50:\"Partially remote\", 0:\"No remote work\"}\n",
    "size_rename = {\"S\":\"Small\", \"M\":\"Medium\", \"L\":\"Large\"}"
   ]
  },
  {
   "cell_type": "code",
   "execution_count": null,
   "id": "67fc9938",
   "metadata": {},
   "outputs": [],
   "source": [
    "df = df.replace({\"experience_level\": experience_rename, \"employment_type\":employment_rename, \n",
    "                 \"employee_residence\":country_rename, \"remote_ratio\":remote_rename, \n",
    "                 \"company_location\":country_rename, \"company_size\":size_rename})\n",
    "df.sample(3)"
   ]
  },
  {
   "cell_type": "markdown",
   "id": "b0d11b3c",
   "metadata": {},
   "source": [
    "### Droping columns"
   ]
  },
  {
   "cell_type": "markdown",
   "id": "56425b50",
   "metadata": {},
   "source": [
    "To be able to make comparisons, we are only interested in the salary in USD. We will drop the columns salary and salary_currency."
   ]
  },
  {
   "cell_type": "code",
   "execution_count": null,
   "id": "8baa7480",
   "metadata": {},
   "outputs": [],
   "source": [
    "df = df.drop([\"salary\", \"salary_currency\"], axis=1)\n",
    "df.sample(3)"
   ]
  },
  {
   "cell_type": "code",
   "execution_count": null,
   "id": "c6d3afc0",
   "metadata": {},
   "outputs": [],
   "source": [
    "df.to_csv(\"data/cleaned_data_science_jobs_dataset.csv\", index=False)"
   ]
  },
  {
   "cell_type": "markdown",
   "id": "892d9f84",
   "metadata": {},
   "source": [
    "# EDA"
   ]
  },
  {
   "cell_type": "markdown",
   "id": "c5a09b8a",
   "metadata": {},
   "source": [
    "## Feature analysis univariate"
   ]
  },
  {
   "cell_type": "markdown",
   "id": "dbfd4019",
   "metadata": {},
   "source": [
    "### Work Year"
   ]
  },
  {
   "cell_type": "markdown",
   "id": "9a7cfa9c",
   "metadata": {},
   "source": [
    "![](Images/Work_year.png)"
   ]
  },
  {
   "cell_type": "markdown",
   "id": "9d22ff0f",
   "metadata": {},
   "source": [
    "Every year there is a noticable increase in the number of data in our dataset. More available jobs related to data worldwide could explain a small difference, but the reason for an increase this big is that the data is entered voluntarily and the site that collects it has been gaining popularity over the last 2 years."
   ]
  },
  {
   "cell_type": "markdown",
   "id": "512b89e2",
   "metadata": {},
   "source": [
    "### Experience level"
   ]
  },
  {
   "cell_type": "markdown",
   "id": "e456b77e",
   "metadata": {},
   "source": [
    "![](Images/Experience_level.png)"
   ]
  },
  {
   "cell_type": "markdown",
   "id": "bc2e1aeb",
   "metadata": {},
   "source": [
    "More than half of the positions are Senior, and aproximately one out of three are intermediate, one out of seven are junior and only one out of 25 are executive level positions"
   ]
  },
  {
   "cell_type": "markdown",
   "id": "5f5b5cd2",
   "metadata": {},
   "source": [
    "### Employment type"
   ]
  },
  {
   "cell_type": "markdown",
   "id": "f9d7b8c5",
   "metadata": {},
   "source": [
    "![](Images/Employment_type.png)"
   ]
  },
  {
   "cell_type": "markdown",
   "id": "74921f88",
   "metadata": {},
   "source": [
    "Almost every single job listed is a full time job."
   ]
  },
  {
   "cell_type": "markdown",
   "id": "3bc7272d",
   "metadata": {},
   "source": [
    "### Job title"
   ]
  },
  {
   "cell_type": "markdown",
   "id": "3509b183",
   "metadata": {},
   "source": [
    "![](Images/Job_title.png)"
   ]
  },
  {
   "cell_type": "markdown",
   "id": "e8e6f2b2",
   "metadata": {},
   "source": []
  },
  {
   "cell_type": "markdown",
   "id": "1a723309",
   "metadata": {},
   "source": [
    "### Salary (USD)"
   ]
  },
  {
   "cell_type": "code",
   "execution_count": null,
   "id": "941856f3",
   "metadata": {},
   "outputs": [],
   "source": []
  },
  {
   "cell_type": "markdown",
   "id": "90c45676",
   "metadata": {},
   "source": []
  },
  {
   "cell_type": "markdown",
   "id": "c8136a04",
   "metadata": {},
   "source": [
    "### Employee residence"
   ]
  },
  {
   "cell_type": "code",
   "execution_count": null,
   "id": "4f661419",
   "metadata": {},
   "outputs": [],
   "source": []
  },
  {
   "cell_type": "markdown",
   "id": "90acd984",
   "metadata": {},
   "source": []
  },
  {
   "cell_type": "markdown",
   "id": "325953c0",
   "metadata": {},
   "source": [
    "### Remote Ratio"
   ]
  },
  {
   "cell_type": "code",
   "execution_count": null,
   "id": "82072b45",
   "metadata": {},
   "outputs": [],
   "source": []
  },
  {
   "cell_type": "markdown",
   "id": "b3f409cd",
   "metadata": {},
   "source": []
  },
  {
   "cell_type": "markdown",
   "id": "d98bc8a5",
   "metadata": {},
   "source": [
    "### Company Location"
   ]
  },
  {
   "cell_type": "code",
   "execution_count": null,
   "id": "f6dd13d8",
   "metadata": {},
   "outputs": [],
   "source": []
  },
  {
   "cell_type": "markdown",
   "id": "a5e46f9c",
   "metadata": {},
   "source": []
  },
  {
   "cell_type": "markdown",
   "id": "385ec055",
   "metadata": {},
   "source": [
    "### Company Size"
   ]
  },
  {
   "cell_type": "code",
   "execution_count": null,
   "id": "7778c062",
   "metadata": {},
   "outputs": [],
   "source": []
  },
  {
   "cell_type": "markdown",
   "id": "e38e947f",
   "metadata": {},
   "source": []
  },
  {
   "cell_type": "markdown",
   "id": "168334d9",
   "metadata": {},
   "source": [
    "## Feature analysis multivariate"
   ]
  },
  {
   "cell_type": "markdown",
   "id": "94c7b4c3",
   "metadata": {},
   "source": [
    "### Job title by experience level"
   ]
  },
  {
   "cell_type": "code",
   "execution_count": null,
   "id": "f5de902e",
   "metadata": {},
   "outputs": [],
   "source": []
  },
  {
   "cell_type": "markdown",
   "id": "ab8efca3",
   "metadata": {},
   "source": []
  },
  {
   "cell_type": "markdown",
   "id": "16da524b",
   "metadata": {},
   "source": [
    "### Remote ratio by work year"
   ]
  },
  {
   "cell_type": "code",
   "execution_count": null,
   "id": "31533c41",
   "metadata": {},
   "outputs": [],
   "source": []
  },
  {
   "cell_type": "markdown",
   "id": "5d02a900",
   "metadata": {},
   "source": []
  },
  {
   "cell_type": "markdown",
   "id": "4fdf0991",
   "metadata": {},
   "source": [
    "### Remote Ratio by experience level"
   ]
  },
  {
   "cell_type": "markdown",
   "id": "216e181e",
   "metadata": {},
   "source": [
    "Compared to remote ratio overall"
   ]
  },
  {
   "cell_type": "code",
   "execution_count": null,
   "id": "26648ca1",
   "metadata": {},
   "outputs": [],
   "source": []
  },
  {
   "cell_type": "markdown",
   "id": "c28231aa",
   "metadata": {},
   "source": []
  },
  {
   "cell_type": "markdown",
   "id": "98f787d6",
   "metadata": {},
   "source": [
    "### Remote Ratio by employment type"
   ]
  },
  {
   "cell_type": "markdown",
   "id": "6d8c5443",
   "metadata": {},
   "source": [
    "Compared to remote ratio overall"
   ]
  },
  {
   "cell_type": "code",
   "execution_count": null,
   "id": "b2c30c4d",
   "metadata": {},
   "outputs": [],
   "source": []
  },
  {
   "cell_type": "markdown",
   "id": "7a631f21",
   "metadata": {},
   "source": []
  },
  {
   "cell_type": "markdown",
   "id": "b43a8c0d",
   "metadata": {},
   "source": [
    "### Remote Ratio by job title"
   ]
  },
  {
   "cell_type": "markdown",
   "id": "de20c0f3",
   "metadata": {},
   "source": [
    "Compared to remote ratio overall"
   ]
  },
  {
   "cell_type": "code",
   "execution_count": null,
   "id": "5fae09c1",
   "metadata": {},
   "outputs": [],
   "source": []
  },
  {
   "cell_type": "markdown",
   "id": "82a831d3",
   "metadata": {},
   "source": []
  },
  {
   "cell_type": "markdown",
   "id": "53a5121f",
   "metadata": {},
   "source": [
    "### Remote Ratio by Country"
   ]
  },
  {
   "cell_type": "markdown",
   "id": "ee1c7ce1",
   "metadata": {},
   "source": [
    "Compared to remote ratio overall"
   ]
  },
  {
   "cell_type": "code",
   "execution_count": null,
   "id": "f469e42d",
   "metadata": {},
   "outputs": [],
   "source": []
  },
  {
   "cell_type": "markdown",
   "id": "b080702f",
   "metadata": {},
   "source": []
  },
  {
   "cell_type": "markdown",
   "id": "bd833e3b",
   "metadata": {},
   "source": [
    "### Remote Ratio by company size"
   ]
  },
  {
   "cell_type": "markdown",
   "id": "1d9b40de",
   "metadata": {},
   "source": [
    "Compared to remote ratio overall"
   ]
  },
  {
   "cell_type": "code",
   "execution_count": null,
   "id": "922e60b4",
   "metadata": {},
   "outputs": [],
   "source": []
  },
  {
   "cell_type": "markdown",
   "id": "34ac6e33",
   "metadata": {},
   "source": []
  },
  {
   "cell_type": "markdown",
   "id": "9c5d9797",
   "metadata": {},
   "source": [
    "### Remote Ratio when employee residence = company location"
   ]
  },
  {
   "cell_type": "code",
   "execution_count": null,
   "id": "938a4697",
   "metadata": {},
   "outputs": [],
   "source": []
  },
  {
   "cell_type": "markdown",
   "id": "8b6c2164",
   "metadata": {},
   "source": []
  },
  {
   "cell_type": "markdown",
   "id": "d2664957",
   "metadata": {},
   "source": [
    "### Employee residence by Company location"
   ]
  },
  {
   "cell_type": "markdown",
   "id": "976b48a1",
   "metadata": {},
   "source": [
    "To see how many remote jobs are from employees living in a different country"
   ]
  },
  {
   "cell_type": "markdown",
   "id": "7cce0784",
   "metadata": {},
   "source": [
    "Useful if you want to look for remote jobs, so you know where to look"
   ]
  },
  {
   "cell_type": "code",
   "execution_count": null,
   "id": "25153688",
   "metadata": {},
   "outputs": [],
   "source": []
  },
  {
   "cell_type": "markdown",
   "id": "3d7a766f",
   "metadata": {},
   "source": []
  },
  {
   "cell_type": "markdown",
   "id": "83408cdc",
   "metadata": {},
   "source": [
    "### Experience level by company size"
   ]
  },
  {
   "cell_type": "code",
   "execution_count": null,
   "id": "a71839f4",
   "metadata": {},
   "outputs": [],
   "source": []
  },
  {
   "cell_type": "markdown",
   "id": "0fc7f388",
   "metadata": {},
   "source": []
  },
  {
   "cell_type": "markdown",
   "id": "5071f330",
   "metadata": {},
   "source": [
    "### Salary by work year"
   ]
  },
  {
   "cell_type": "code",
   "execution_count": null,
   "id": "2244c1e5",
   "metadata": {},
   "outputs": [],
   "source": []
  },
  {
   "cell_type": "markdown",
   "id": "65619259",
   "metadata": {},
   "source": []
  },
  {
   "cell_type": "markdown",
   "id": "bcda4656",
   "metadata": {},
   "source": [
    "### Salary by experience level"
   ]
  },
  {
   "cell_type": "code",
   "execution_count": null,
   "id": "9a495a9b",
   "metadata": {},
   "outputs": [],
   "source": []
  },
  {
   "cell_type": "markdown",
   "id": "fa33b1c6",
   "metadata": {},
   "source": []
  },
  {
   "cell_type": "markdown",
   "id": "8a9f094d",
   "metadata": {},
   "source": [
    "### Salary by job title"
   ]
  },
  {
   "cell_type": "code",
   "execution_count": null,
   "id": "e199ff31",
   "metadata": {},
   "outputs": [],
   "source": []
  },
  {
   "cell_type": "markdown",
   "id": "a4a70f05",
   "metadata": {},
   "source": []
  },
  {
   "cell_type": "markdown",
   "id": "d0482b75",
   "metadata": {},
   "source": [
    "### Salary by job title by experience level"
   ]
  },
  {
   "cell_type": "code",
   "execution_count": null,
   "id": "7ec9d26c",
   "metadata": {},
   "outputs": [],
   "source": []
  },
  {
   "cell_type": "markdown",
   "id": "b74f6938",
   "metadata": {},
   "source": []
  },
  {
   "cell_type": "markdown",
   "id": "3339d77b",
   "metadata": {},
   "source": [
    "### Salary by job title by company location"
   ]
  },
  {
   "cell_type": "code",
   "execution_count": null,
   "id": "a288359b",
   "metadata": {},
   "outputs": [],
   "source": []
  },
  {
   "cell_type": "markdown",
   "id": "a784b483",
   "metadata": {},
   "source": []
  },
  {
   "cell_type": "markdown",
   "id": "130c6db0",
   "metadata": {},
   "source": [
    "### Salary by remote ratio"
   ]
  },
  {
   "cell_type": "code",
   "execution_count": null,
   "id": "3b5a0d11",
   "metadata": {},
   "outputs": [],
   "source": []
  },
  {
   "cell_type": "markdown",
   "id": "4a03ea2b",
   "metadata": {},
   "source": []
  },
  {
   "cell_type": "markdown",
   "id": "d55b08a2",
   "metadata": {},
   "source": [
    "### Salary by company location"
   ]
  },
  {
   "cell_type": "code",
   "execution_count": null,
   "id": "b5a050d0",
   "metadata": {},
   "outputs": [],
   "source": []
  },
  {
   "cell_type": "markdown",
   "id": "a54b25ff",
   "metadata": {},
   "source": []
  },
  {
   "cell_type": "markdown",
   "id": "c7108597",
   "metadata": {},
   "source": [
    "### Salary by company size"
   ]
  },
  {
   "cell_type": "code",
   "execution_count": null,
   "id": "012145d9",
   "metadata": {},
   "outputs": [],
   "source": []
  },
  {
   "cell_type": "markdown",
   "id": "93e4776a",
   "metadata": {},
   "source": []
  },
  {
   "cell_type": "markdown",
   "id": "1cd5386a",
   "metadata": {},
   "source": [
    "# Prediction"
   ]
  },
  {
   "cell_type": "code",
   "execution_count": null,
   "id": "8c6ec355",
   "metadata": {},
   "outputs": [],
   "source": []
  },
  {
   "cell_type": "markdown",
   "id": "61855495",
   "metadata": {},
   "source": []
  }
 ],
 "metadata": {
  "kernelspec": {
   "display_name": "Python 3 (ipykernel)",
   "language": "python",
   "name": "python3"
  },
  "language_info": {
   "codemirror_mode": {
    "name": "ipython",
    "version": 3
   },
   "file_extension": ".py",
   "mimetype": "text/x-python",
   "name": "python",
   "nbconvert_exporter": "python",
   "pygments_lexer": "ipython3",
   "version": "3.9.12"
  }
 },
 "nbformat": 4,
 "nbformat_minor": 5
}
