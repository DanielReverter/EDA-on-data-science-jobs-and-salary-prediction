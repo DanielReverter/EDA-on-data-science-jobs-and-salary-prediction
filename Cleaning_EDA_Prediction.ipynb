{
 "cells": [
  {
   "cell_type": "code",
   "execution_count": 1,
   "id": "386b31cf",
   "metadata": {},
   "outputs": [],
   "source": [
    "# Data\n",
    "import pandas as pd\n",
    "import numpy as np\n",
    "import country_converter as coco"
   ]
  },
  {
   "cell_type": "code",
   "execution_count": 2,
   "id": "40aa2eaa",
   "metadata": {},
   "outputs": [],
   "source": [
    "df = pd.read_csv('Data/data_science_jobs_dataset.csv')"
   ]
  },
  {
   "cell_type": "code",
   "execution_count": 3,
   "id": "4ca165fc",
   "metadata": {},
   "outputs": [
    {
     "data": {
      "text/html": [
       "<div>\n",
       "<style scoped>\n",
       "    .dataframe tbody tr th:only-of-type {\n",
       "        vertical-align: middle;\n",
       "    }\n",
       "\n",
       "    .dataframe tbody tr th {\n",
       "        vertical-align: top;\n",
       "    }\n",
       "\n",
       "    .dataframe thead th {\n",
       "        text-align: right;\n",
       "    }\n",
       "</style>\n",
       "<table border=\"1\" class=\"dataframe\">\n",
       "  <thead>\n",
       "    <tr style=\"text-align: right;\">\n",
       "      <th></th>\n",
       "      <th>work_year</th>\n",
       "      <th>experience_level</th>\n",
       "      <th>employment_type</th>\n",
       "      <th>job_title</th>\n",
       "      <th>salary</th>\n",
       "      <th>salary_currency</th>\n",
       "      <th>salary_in_usd</th>\n",
       "      <th>employee_residence</th>\n",
       "      <th>remote_ratio</th>\n",
       "      <th>company_location</th>\n",
       "      <th>company_size</th>\n",
       "    </tr>\n",
       "  </thead>\n",
       "  <tbody>\n",
       "    <tr>\n",
       "      <th>78</th>\n",
       "      <td>2022</td>\n",
       "      <td>EN</td>\n",
       "      <td>FT</td>\n",
       "      <td>Data Analyst</td>\n",
       "      <td>50000</td>\n",
       "      <td>USD</td>\n",
       "      <td>50000</td>\n",
       "      <td>AR</td>\n",
       "      <td>100</td>\n",
       "      <td>AR</td>\n",
       "      <td>L</td>\n",
       "    </tr>\n",
       "    <tr>\n",
       "      <th>354</th>\n",
       "      <td>2022</td>\n",
       "      <td>SE</td>\n",
       "      <td>FT</td>\n",
       "      <td>Data Engineer</td>\n",
       "      <td>156600</td>\n",
       "      <td>USD</td>\n",
       "      <td>156600</td>\n",
       "      <td>US</td>\n",
       "      <td>100</td>\n",
       "      <td>US</td>\n",
       "      <td>M</td>\n",
       "    </tr>\n",
       "    <tr>\n",
       "      <th>265</th>\n",
       "      <td>2022</td>\n",
       "      <td>SE</td>\n",
       "      <td>FT</td>\n",
       "      <td>Data Scientist</td>\n",
       "      <td>260000</td>\n",
       "      <td>USD</td>\n",
       "      <td>260000</td>\n",
       "      <td>US</td>\n",
       "      <td>100</td>\n",
       "      <td>US</td>\n",
       "      <td>M</td>\n",
       "    </tr>\n",
       "  </tbody>\n",
       "</table>\n",
       "</div>"
      ],
      "text/plain": [
       "     work_year experience_level employment_type       job_title  salary  \\\n",
       "78        2022               EN              FT    Data Analyst   50000   \n",
       "354       2022               SE              FT   Data Engineer  156600   \n",
       "265       2022               SE              FT  Data Scientist  260000   \n",
       "\n",
       "    salary_currency  salary_in_usd employee_residence  remote_ratio  \\\n",
       "78              USD          50000                 AR           100   \n",
       "354             USD         156600                 US           100   \n",
       "265             USD         260000                 US           100   \n",
       "\n",
       "    company_location company_size  \n",
       "78                AR            L  \n",
       "354               US            M  \n",
       "265               US            M  "
      ]
     },
     "execution_count": 3,
     "metadata": {},
     "output_type": "execute_result"
    }
   ],
   "source": [
    "df.sample(3)"
   ]
  },
  {
   "cell_type": "markdown",
   "id": "a46fee3a",
   "metadata": {},
   "source": [
    "## Cleaning"
   ]
  },
  {
   "cell_type": "markdown",
   "id": "7ae6dd3b",
   "metadata": {},
   "source": [
    "### Abreviations"
   ]
  },
  {
   "cell_type": "markdown",
   "id": "7a64c7e5",
   "metadata": {},
   "source": [
    "We'll change the abreviations to the actual meaning for extra clarity:\n",
    "- Experience level:\n",
    "    - EN: Junior\n",
    "    - MI: Intermediate\n",
    "    - SE: Senior\n",
    "    - EX: Executive\n",
    "- Employment:\n",
    "    - FT: Full time\n",
    "    - PT: Part time\n",
    "    - CT: Contract\n",
    "    - FL: Freelance\n",
    "- Country:\n",
    "    - Every ISO2 abreviation is changed to the short name of the country\n",
    "- Remote:\n",
    "    - 100: Fully Remote\n",
    "    - 50: Partially Remote\n",
    "    - 0: No remote work\n",
    "- Company size:\n",
    "    - S: Small (less than 50 employees)\n",
    "    - M: Medium (between 50 and 250 employees)\n",
    "    - L: Large (more than 250 employees)"
   ]
  },
  {
   "cell_type": "code",
   "execution_count": 4,
   "id": "eb1a3afe",
   "metadata": {},
   "outputs": [],
   "source": [
    "experience_rename = {\"EN\":\"Junior\", \"MI\":\"Intermediate\", \"SE\":\"Senior\", \"EX\":\"Executive\"}\n",
    "employment_rename = {\"FT\":\"Full time\", \"PT\":\"Part time\", \"CT\":\"Contract\", \"FL\":\"Freelance\"}\n",
    "country_rename = coco.CountryConverter().get_correspondence_dict('ISO2', 'name_short')\n",
    "country_rename[\"GB\"] = \"United Kingdom\" #GB'S conversion is missing from the premade dictionary, so we add it manually\n",
    "remote_rename = {100:\"Fully remote\", 50:\"Partially remote\", 0:\"No remote work\"}\n",
    "size_rename = {\"S\":\"Small\", \"M\":\"Medium\", \"L\":\"Large\"}"
   ]
  },
  {
   "cell_type": "code",
   "execution_count": 5,
   "id": "67fc9938",
   "metadata": {},
   "outputs": [
    {
     "data": {
      "text/html": [
       "<div>\n",
       "<style scoped>\n",
       "    .dataframe tbody tr th:only-of-type {\n",
       "        vertical-align: middle;\n",
       "    }\n",
       "\n",
       "    .dataframe tbody tr th {\n",
       "        vertical-align: top;\n",
       "    }\n",
       "\n",
       "    .dataframe thead th {\n",
       "        text-align: right;\n",
       "    }\n",
       "</style>\n",
       "<table border=\"1\" class=\"dataframe\">\n",
       "  <thead>\n",
       "    <tr style=\"text-align: right;\">\n",
       "      <th></th>\n",
       "      <th>work_year</th>\n",
       "      <th>experience_level</th>\n",
       "      <th>employment_type</th>\n",
       "      <th>job_title</th>\n",
       "      <th>salary</th>\n",
       "      <th>salary_currency</th>\n",
       "      <th>salary_in_usd</th>\n",
       "      <th>employee_residence</th>\n",
       "      <th>remote_ratio</th>\n",
       "      <th>company_location</th>\n",
       "      <th>company_size</th>\n",
       "    </tr>\n",
       "  </thead>\n",
       "  <tbody>\n",
       "    <tr>\n",
       "      <th>589</th>\n",
       "      <td>2021</td>\n",
       "      <td>Intermediate</td>\n",
       "      <td>Full time</td>\n",
       "      <td>Applied Data Scientist</td>\n",
       "      <td>68000</td>\n",
       "      <td>CAD</td>\n",
       "      <td>54238</td>\n",
       "      <td>United Kingdom</td>\n",
       "      <td>Partially remote</td>\n",
       "      <td>Canada</td>\n",
       "      <td>Large</td>\n",
       "    </tr>\n",
       "    <tr>\n",
       "      <th>396</th>\n",
       "      <td>2022</td>\n",
       "      <td>Intermediate</td>\n",
       "      <td>Full time</td>\n",
       "      <td>Data Scientist</td>\n",
       "      <td>102100</td>\n",
       "      <td>USD</td>\n",
       "      <td>102100</td>\n",
       "      <td>United States</td>\n",
       "      <td>No remote work</td>\n",
       "      <td>United States</td>\n",
       "      <td>Medium</td>\n",
       "    </tr>\n",
       "    <tr>\n",
       "      <th>503</th>\n",
       "      <td>2022</td>\n",
       "      <td>Intermediate</td>\n",
       "      <td>Full time</td>\n",
       "      <td>Data Scientist</td>\n",
       "      <td>150000</td>\n",
       "      <td>PLN</td>\n",
       "      <td>34650</td>\n",
       "      <td>Poland</td>\n",
       "      <td>Fully remote</td>\n",
       "      <td>Poland</td>\n",
       "      <td>Large</td>\n",
       "    </tr>\n",
       "  </tbody>\n",
       "</table>\n",
       "</div>"
      ],
      "text/plain": [
       "     work_year experience_level employment_type               job_title  \\\n",
       "589       2021     Intermediate       Full time  Applied Data Scientist   \n",
       "396       2022     Intermediate       Full time          Data Scientist   \n",
       "503       2022     Intermediate       Full time          Data Scientist   \n",
       "\n",
       "     salary salary_currency  salary_in_usd employee_residence  \\\n",
       "589   68000             CAD          54238     United Kingdom   \n",
       "396  102100             USD         102100      United States   \n",
       "503  150000             PLN          34650             Poland   \n",
       "\n",
       "         remote_ratio company_location company_size  \n",
       "589  Partially remote           Canada        Large  \n",
       "396    No remote work    United States       Medium  \n",
       "503      Fully remote           Poland        Large  "
      ]
     },
     "execution_count": 5,
     "metadata": {},
     "output_type": "execute_result"
    }
   ],
   "source": [
    "df = df.replace({\"experience_level\": experience_rename, \"employment_type\":employment_rename, \n",
    "                 \"employee_residence\":country_rename, \"remote_ratio\":remote_rename, \n",
    "                 \"company_location\":country_rename, \"company_size\":size_rename})\n",
    "df.sample(3)"
   ]
  },
  {
   "cell_type": "markdown",
   "id": "b0d11b3c",
   "metadata": {},
   "source": [
    "### Droping columns"
   ]
  },
  {
   "cell_type": "markdown",
   "id": "56425b50",
   "metadata": {},
   "source": [
    "To be able to make comparisons, we are only interested in the salary in USD. We will drop the columns salary and salary_currency."
   ]
  },
  {
   "cell_type": "code",
   "execution_count": 6,
   "id": "8baa7480",
   "metadata": {},
   "outputs": [
    {
     "data": {
      "text/html": [
       "<div>\n",
       "<style scoped>\n",
       "    .dataframe tbody tr th:only-of-type {\n",
       "        vertical-align: middle;\n",
       "    }\n",
       "\n",
       "    .dataframe tbody tr th {\n",
       "        vertical-align: top;\n",
       "    }\n",
       "\n",
       "    .dataframe thead th {\n",
       "        text-align: right;\n",
       "    }\n",
       "</style>\n",
       "<table border=\"1\" class=\"dataframe\">\n",
       "  <thead>\n",
       "    <tr style=\"text-align: right;\">\n",
       "      <th></th>\n",
       "      <th>work_year</th>\n",
       "      <th>experience_level</th>\n",
       "      <th>employment_type</th>\n",
       "      <th>job_title</th>\n",
       "      <th>salary_in_usd</th>\n",
       "      <th>employee_residence</th>\n",
       "      <th>remote_ratio</th>\n",
       "      <th>company_location</th>\n",
       "      <th>company_size</th>\n",
       "    </tr>\n",
       "  </thead>\n",
       "  <tbody>\n",
       "    <tr>\n",
       "      <th>294</th>\n",
       "      <td>2022</td>\n",
       "      <td>Senior</td>\n",
       "      <td>Full time</td>\n",
       "      <td>Data Scientist</td>\n",
       "      <td>120160</td>\n",
       "      <td>United States</td>\n",
       "      <td>Fully remote</td>\n",
       "      <td>United States</td>\n",
       "      <td>Medium</td>\n",
       "    </tr>\n",
       "    <tr>\n",
       "      <th>336</th>\n",
       "      <td>2022</td>\n",
       "      <td>Senior</td>\n",
       "      <td>Full time</td>\n",
       "      <td>Data Architect</td>\n",
       "      <td>90700</td>\n",
       "      <td>Canada</td>\n",
       "      <td>Fully remote</td>\n",
       "      <td>Canada</td>\n",
       "      <td>Medium</td>\n",
       "    </tr>\n",
       "    <tr>\n",
       "      <th>148</th>\n",
       "      <td>2022</td>\n",
       "      <td>Senior</td>\n",
       "      <td>Full time</td>\n",
       "      <td>Data Engineer</td>\n",
       "      <td>130000</td>\n",
       "      <td>United States</td>\n",
       "      <td>Fully remote</td>\n",
       "      <td>United States</td>\n",
       "      <td>Medium</td>\n",
       "    </tr>\n",
       "  </tbody>\n",
       "</table>\n",
       "</div>"
      ],
      "text/plain": [
       "     work_year experience_level employment_type       job_title  \\\n",
       "294       2022           Senior       Full time  Data Scientist   \n",
       "336       2022           Senior       Full time  Data Architect   \n",
       "148       2022           Senior       Full time   Data Engineer   \n",
       "\n",
       "     salary_in_usd employee_residence  remote_ratio company_location  \\\n",
       "294         120160      United States  Fully remote    United States   \n",
       "336          90700             Canada  Fully remote           Canada   \n",
       "148         130000      United States  Fully remote    United States   \n",
       "\n",
       "    company_size  \n",
       "294       Medium  \n",
       "336       Medium  \n",
       "148       Medium  "
      ]
     },
     "execution_count": 6,
     "metadata": {},
     "output_type": "execute_result"
    }
   ],
   "source": [
    "df = df.drop([\"salary\", \"salary_currency\"], axis=1)\n",
    "df.sample(3)"
   ]
  },
  {
   "cell_type": "code",
   "execution_count": 7,
   "id": "c6d3afc0",
   "metadata": {},
   "outputs": [],
   "source": [
    "df.to_csv(\"data/cleaned_data_science_jobs_dataset.csv\", index=False)"
   ]
  },
  {
   "cell_type": "markdown",
   "id": "892d9f84",
   "metadata": {},
   "source": [
    "# EDA"
   ]
  },
  {
   "cell_type": "markdown",
   "id": "c5a09b8a",
   "metadata": {},
   "source": [
    "## Feature analysis univariate"
   ]
  },
  {
   "cell_type": "markdown",
   "id": "dbfd4019",
   "metadata": {},
   "source": [
    "### Work Year"
   ]
  },
  {
   "cell_type": "markdown",
   "id": "43cf499f",
   "metadata": {},
   "source": [
    "<div>\n",
    "<img src=\"Images/Work_year.png\" width=\"400\"/>\n",
    "</div>"
   ]
  },
  {
   "cell_type": "markdown",
   "id": "9d22ff0f",
   "metadata": {},
   "source": [
    "Every year there is a noticable increase in the number of data in our dataset. More available jobs related to data worldwide could explain a small difference, but the reason for an increase this big is that the data is entered voluntarily and the site that collects it has been gaining popularity over the last 2 years."
   ]
  },
  {
   "cell_type": "markdown",
   "id": "512b89e2",
   "metadata": {},
   "source": [
    "### Experience level"
   ]
  },
  {
   "cell_type": "markdown",
   "id": "e456b77e",
   "metadata": {},
   "source": [
    "<div>\n",
    "<img src=\"Images/Experience_level.png\" width=\"700\"/>\n",
    "</div>"
   ]
  },
  {
   "cell_type": "markdown",
   "id": "bc2e1aeb",
   "metadata": {},
   "source": [
    "More than half of the positions are Senior, and aproximately one out of three are intermediate, one out of seven are junior and only one out of 25 are executive level positions"
   ]
  },
  {
   "cell_type": "markdown",
   "id": "5f5b5cd2",
   "metadata": {},
   "source": [
    "### Employment type"
   ]
  },
  {
   "cell_type": "markdown",
   "id": "f9d7b8c5",
   "metadata": {},
   "source": [
    "<div>\n",
    "<img src=\"Images/Employment_type.png\" width=\"400\"/>\n",
    "</div>"
   ]
  },
  {
   "cell_type": "markdown",
   "id": "74921f88",
   "metadata": {},
   "source": [
    "Almost every single job listed is a full time job."
   ]
  },
  {
   "cell_type": "markdown",
   "id": "3bc7272d",
   "metadata": {},
   "source": [
    "### Job title"
   ]
  },
  {
   "cell_type": "code",
   "execution_count": 8,
   "id": "ab353e98",
   "metadata": {},
   "outputs": [
    {
     "data": {
      "text/plain": [
       "52"
      ]
     },
     "execution_count": 8,
     "metadata": {},
     "output_type": "execute_result"
    }
   ],
   "source": [
    "len(df[\"job_title\"].unique())"
   ]
  },
  {
   "cell_type": "markdown",
   "id": "3509b183",
   "metadata": {},
   "source": [
    "<div>\n",
    "<img src=\"Images/Job_title.png\" width=\"900\"/>\n",
    "</div>"
   ]
  },
  {
   "cell_type": "markdown",
   "id": "e8e6f2b2",
   "metadata": {},
   "source": [
    "There are 52 unique job titles. Some of them are very niche, so we will focus on the 10 most common. The vast majority of data related employees are either Data Engineers, Data Scientists, Data Analysts or Machine Learning Engineers; over 80% of all job titles fall in these 4 categories."
   ]
  },
  {
   "cell_type": "markdown",
   "id": "1a723309",
   "metadata": {},
   "source": [
    "### Salary (USD)"
   ]
  },
  {
   "cell_type": "markdown",
   "id": "ca6b79c9",
   "metadata": {},
   "source": [
    "<div>\n",
    "<img src=\"Images/Salary.png\" width=\"500\"/>\n",
    "</div>"
   ]
  },
  {
   "cell_type": "markdown",
   "id": "90c45676",
   "metadata": {},
   "source": [
    "<div>\n",
    "<img src=\"Images/Salary_2.png\" width=\"1000\"/>\n",
    "</div>"
   ]
  },
  {
   "cell_type": "markdown",
   "id": "93ec925e",
   "metadata": {},
   "source": [
    "The first graph shows that there is a large number of outliers in our dataset. The maximum salary is 900k\\\\$ per year! \n",
    "\n",
    "The second graph is the same boxplot as the first with the outliers filtered out, to make it easier to understand. There we can see that half of all the salaries are between 57k\\\\$ and 143k\\\\$ (first and third quartiles), with the median being at around 95k\\\\$.\n",
    "\n",
    "The third graph, a bar plot of binned salaries (each bin having a range of 30k\\\\$) shows that the salaries follow a distribution close to normal, with some outliers and with an obvious lower bound of 0\\\\$. The mean of this distribution whould be in the 90k-120k\\\\$ bin, which will be checked in the next block of code:"
   ]
  },
  {
   "cell_type": "code",
   "execution_count": 9,
   "id": "74937031",
   "metadata": {},
   "outputs": [
    {
     "name": "stdout",
     "output_type": "stream",
     "text": [
      "The mean of all salaries is 118856.37$\n"
     ]
    }
   ],
   "source": [
    "mean = round(df[\"salary_in_usd\"].mean(),2)\n",
    "print(f\"The mean of all salaries is {mean}$\")"
   ]
  },
  {
   "cell_type": "markdown",
   "id": "fc6df028",
   "metadata": {},
   "source": [
    "As expected, the mean falls in that bin. Lets check its value if we drop the outliers:"
   ]
  },
  {
   "cell_type": "code",
   "execution_count": 10,
   "id": "87c69981",
   "metadata": {},
   "outputs": [
    {
     "name": "stdout",
     "output_type": "stream",
     "text": [
      "The mean of salaries (excluding outliers) is 86997.91$\n"
     ]
    }
   ],
   "source": [
    "mean = round(df[(df[\"salary_in_usd\"] < df[\"salary_in_usd\"].quantile(0.75))][\"salary_in_usd\"].mean(),2)\n",
    "print(f\"The mean of salaries (excluding outliers) is {mean}$\")"
   ]
  },
  {
   "cell_type": "markdown",
   "id": "c8136a04",
   "metadata": {},
   "source": [
    "### Employee residence"
   ]
  },
  {
   "cell_type": "code",
   "execution_count": 11,
   "id": "f9522ebc",
   "metadata": {},
   "outputs": [
    {
     "data": {
      "text/plain": [
       "62"
      ]
     },
     "execution_count": 11,
     "metadata": {},
     "output_type": "execute_result"
    }
   ],
   "source": [
    "len(df[\"employee_residence\"].unique())"
   ]
  },
  {
   "cell_type": "markdown",
   "id": "d949970a",
   "metadata": {},
   "source": [
    "<div>\n",
    "<img src=\"Images/Employee_residence.png\" width=\"900\"/>\n",
    "</div>"
   ]
  },
  {
   "cell_type": "markdown",
   "id": "90acd984",
   "metadata": {},
   "source": [
    "As with job titles, there are too many employee countries of residence to show in a graph (62), so only the 10 most common ones were plotted. The vast majority of our data (68.5%) comes from the United States."
   ]
  },
  {
   "cell_type": "markdown",
   "id": "325953c0",
   "metadata": {},
   "source": [
    "### Remote Ratio"
   ]
  },
  {
   "cell_type": "markdown",
   "id": "8a0a33f8",
   "metadata": {},
   "source": [
    "<div>\n",
    "<img src=\"Images/Remote_work.png\" width=\"500\"/>\n",
    "</div>"
   ]
  },
  {
   "cell_type": "markdown",
   "id": "b3f409cd",
   "metadata": {},
   "source": [
    "Interestingly, more than half of all the jobs are fully remote. Later we will see the evolution over time of this percentage, to see wether covid has had any impact on it."
   ]
  },
  {
   "cell_type": "markdown",
   "id": "d98bc8a5",
   "metadata": {},
   "source": [
    "### Company Location"
   ]
  },
  {
   "cell_type": "markdown",
   "id": "7f2ccac7",
   "metadata": {},
   "source": [
    "<div>\n",
    "<img src=\"Images/Company_location.png\" width=\"900\"/>\n",
    "</div>"
   ]
  },
  {
   "cell_type": "markdown",
   "id": "a5e46f9c",
   "metadata": {},
   "source": [
    "Similarly to employee residence, the country with the greater amount of jobs is by far the United States, with over 70% of all the share. The difference in percentage between company location and employee residence (1.5% in the case of USA) is explained by people working remotely from other countries. This phenomenon will be explored in more detail later."
   ]
  },
  {
   "cell_type": "markdown",
   "id": "385ec055",
   "metadata": {},
   "source": [
    "### Company Size"
   ]
  },
  {
   "cell_type": "markdown",
   "id": "49e4d242",
   "metadata": {},
   "source": [
    "<div>\n",
    "<img src=\"Images/Company_size.png\" width=\"700\"/>\n",
    "</div>"
   ]
  },
  {
   "cell_type": "markdown",
   "id": "e38e947f",
   "metadata": {},
   "source": [
    "Medium companies (companies with more than 50 employees but less than 250 employees) make up more than half of all companies in the data."
   ]
  },
  {
   "cell_type": "markdown",
   "id": "168334d9",
   "metadata": {},
   "source": [
    "## Feature analysis multivariate"
   ]
  },
  {
   "cell_type": "markdown",
   "id": "94c7b4c3",
   "metadata": {},
   "source": [
    "### Experience level by job title"
   ]
  },
  {
   "cell_type": "markdown",
   "id": "1502d283",
   "metadata": {},
   "source": [
    "<div>\n",
    "<img src=\"Images/Experience_level_by_job_title.png\" width=\"900\"/>\n",
    "</div>"
   ]
  },
  {
   "cell_type": "markdown",
   "id": "ab8efca3",
   "metadata": {},
   "source": [
    "This bar plot is the same as the one shown before in the job titles section, but this time only the 8 most common job titles are shown, and each job is split by experience level (junior, mid, senior and executive). Inside each job title the percentage of each experience level (regarding that specific job title) is shown as text. \n",
    "\n",
    "The jobs with the biggest percentage of juniors are Research Scientists, Machine Learning Engineers, Data Scientists and Data Analysts.\n",
    "\n",
    "The biggest percentage of intermediate level employees are in Research Science, Data Science and Data Engineering jobs\n",
    "\n",
    "Seniors are the biggest percentage in Data Architecture and Data Science Managing jobs.\n",
    "\n",
    "Executives occupy the biggest percentage as Analytics Engineers and Data Science Managers."
   ]
  },
  {
   "cell_type": "markdown",
   "id": "a6a05235",
   "metadata": {},
   "source": [
    "### Company size by job title"
   ]
  },
  {
   "cell_type": "markdown",
   "id": "5e656b12",
   "metadata": {},
   "source": [
    "<div>\n",
    "<img src=\"Images/Company_size_by_job_title.png\" width=\"1000\"\">\n",
    "</div>"
   ]
  },
  {
   "cell_type": "markdown",
   "id": "85fa00af",
   "metadata": {},
   "source": [
    "Without taking job title into account, company size percentages are 30% large, 58% medium and 12% small. Taking this into account, the most noticeable insights that follow from this graph are:\n",
    "\n",
    "- Small companies don't seem to need Data Engineers, Data Managers or Data Architects.\n",
    "- Medium companies have a large percentage of Data Analysts, Data Architects and Analytics Engineers.\n",
    "- Large companies require an unusualy large amount of Research Scientists (compared to small and medium companies)."
   ]
  },
  {
   "cell_type": "markdown",
   "id": "16da524b",
   "metadata": {},
   "source": [
    "### Remote ratio by work year"
   ]
  },
  {
   "cell_type": "markdown",
   "id": "09e57f7a",
   "metadata": {},
   "source": [
    "<div>\n",
    "<img src=\"Images/Remote_ratio_by_work_year.png\" width=\"900\"/>\n",
    "</div>"
   ]
  },
  {
   "cell_type": "markdown",
   "id": "5d02a900",
   "metadata": {},
   "source": [
    "<div>\n",
    "<img src=\"Images/Remote_ratio_by_work_year_2.png\" width=\"800\" style=\"float: left; margin-right: 150px;\"/>\n",
    "</div>"
   ]
  },
  {
   "cell_type": "markdown",
   "id": "f2dd6329",
   "metadata": {},
   "source": [
    "During the last 2 years the percentage of people working either 100% remote or doing no remote work at all has increased considerably at the expense of people working partially remote. This could be attributed to a large number of companies trying some degree of remote work for their employees for the first time during the most severe stage of the covid pandemic (2020-2021). Then by 2022 each company already decided if they wanted to focus on remote work or not."
   ]
  },
  {
   "cell_type": "markdown",
   "id": "4fdf0991",
   "metadata": {},
   "source": [
    "### Remote Ratio by experience level"
   ]
  },
  {
   "cell_type": "markdown",
   "id": "8789a9d1",
   "metadata": {},
   "source": [
    "<div>\n",
    "<img src=\"Images/Remote_ratio_by_experience_level.png\" width=\"800\"\">\n",
    "</div>"
   ]
  },
  {
   "cell_type": "markdown",
   "id": "c28231aa",
   "metadata": {},
   "source": [
    "There is no significant difference in remote ratio for each experience level."
   ]
  },
  {
   "cell_type": "markdown",
   "id": "bd833e3b",
   "metadata": {},
   "source": [
    "### Remote Ratio by company size"
   ]
  },
  {
   "cell_type": "markdown",
   "id": "4b36d5c5",
   "metadata": {},
   "source": [
    "<div>\n",
    "<img src=\"Images/Remote_ratio_by_company_size.png\" width=\"1000\"\">\n",
    "</div>"
   ]
  },
  {
   "cell_type": "markdown",
   "id": "b080702f",
   "metadata": {},
   "source": [
    "There is no significant difference to remote ratio for each company size."
   ]
  },
  {
   "cell_type": "markdown",
   "id": "d2664957",
   "metadata": {},
   "source": [
    "### Of all employees working abroad, how many are in each country (in % of total)"
   ]
  },
  {
   "cell_type": "markdown",
   "id": "145a78cf",
   "metadata": {},
   "source": [
    "<div>\n",
    "<img src=\"Images/Percent_of_abroad.png\" width=\"900\"\">\n",
    "</div>"
   ]
  },
  {
   "cell_type": "markdown",
   "id": "3d7a766f",
   "metadata": {},
   "source": [
    "Not to be confused with percentage of people working from abroad for each country, this graph shows how many of all the people working from abroad are in each country. Almost half of the people working abroad work in the USA, around 10% in the UK and around 10% in germany. Therefore, someone looking to work abroad should start applying for jobs in those countries."
   ]
  },
  {
   "cell_type": "markdown",
   "id": "83408cdc",
   "metadata": {},
   "source": [
    "### Experience level by company size"
   ]
  },
  {
   "cell_type": "markdown",
   "id": "d0a6dd16",
   "metadata": {},
   "source": [
    "<div>\n",
    "<img src=\"Images/Experience_level_by_company_size.png\" width=\"900\"\">\n",
    "</div>"
   ]
  },
  {
   "cell_type": "markdown",
   "id": "0fc7f388",
   "metadata": {},
   "source": [
    "Small companies have the largest percentage of junior employees, while medium companies havealmost no junior employees at all. For someone wanting to start a career in data it would be advisable to focus on applying to either small or large companies."
   ]
  },
  {
   "cell_type": "markdown",
   "id": "5071f330",
   "metadata": {},
   "source": [
    "### Salary by work year"
   ]
  },
  {
   "cell_type": "markdown",
   "id": "8ac176b1",
   "metadata": {},
   "source": [
    "<div>\n",
    "<img src=\"Images/Salary_by_work_year.png\" width=\"450\"\">\n",
    "</div>"
   ]
  },
  {
   "cell_type": "markdown",
   "id": "65619259",
   "metadata": {},
   "source": [
    "Last year (2022) there has been a significant improvement on salaries, with 50% of the salaries being in the range of around 80k\\\\$ to 160k\\\\$, compared to 2021's interquartile range of around 50k\\\\$ to 130k\\\\$."
   ]
  },
  {
   "cell_type": "markdown",
   "id": "bcda4656",
   "metadata": {},
   "source": [
    "### Salary by experience level"
   ]
  },
  {
   "cell_type": "markdown",
   "id": "0aa2025e",
   "metadata": {},
   "source": [
    "<div>\n",
    "<img src=\"Images/Salary_by_experience_level.png\" width=\"1300\"\">\n",
    "</div>"
   ]
  },
  {
   "cell_type": "markdown",
   "id": "fa33b1c6",
   "metadata": {},
   "source": [
    "All salary by experience level histograms are shaped like normal distributions (except for junior, which is clearly affected by the lower bound of 0). The mean is clearly increasing with exerience level, but the difference between senior and executive level salaries doesn't appear to be that much. This is partly due to dropping the outliers prior to drawing the plot: most of these outliers are people working as executives."
   ]
  },
  {
   "cell_type": "markdown",
   "id": "8a9f094d",
   "metadata": {},
   "source": [
    "### Salary by job title"
   ]
  },
  {
   "cell_type": "markdown",
   "id": "d70aa291",
   "metadata": {},
   "source": [
    "<div>\n",
    "<img src=\"Images/Salary_by_job_title.png\" width=\"1300\"\">\n",
    "</div>"
   ]
  },
  {
   "cell_type": "markdown",
   "id": "a4a70f05",
   "metadata": {},
   "source": [
    "Jobs in this list can be separated into 3 groups:\n",
    "\n",
    "- Least paying jobs: Research scientists are by far the least paying job. Their interquartile range is the lowest and it's width also is (meaning there is not much variation within those salaries). Its median is about 60k\\\\$.\n",
    "- Mid paying jobs: Data Engineers, Data Scientists and Data Analysts are not only the most common titles in data related jobs but their salaries are also the most average. There is a small difference between them, with Engineers earning more than Scientists, and them earning more than Analysts.\n",
    "- Top paying jobs: Data Science Manager, Data Architect and Analytics Engineer are managing positions. As we've seen before, most of them are seniors or executives and as such have larger payrolls."
   ]
  },
  {
   "cell_type": "markdown",
   "id": "c7108597",
   "metadata": {},
   "source": [
    "### Salary by company size"
   ]
  },
  {
   "cell_type": "markdown",
   "id": "4ae94b3e",
   "metadata": {},
   "source": [
    "<div>\n",
    "<img src=\"Images/Salary_by_company_size.png\" width=\"500\"\">\n",
    "</div>"
   ]
  },
  {
   "cell_type": "markdown",
   "id": "93e4776a",
   "metadata": {},
   "source": [
    "There is not a big difference in salaries between large and medium companies, but small companies have significantly lower salaries"
   ]
  },
  {
   "cell_type": "markdown",
   "id": "d55b08a2",
   "metadata": {},
   "source": [
    "### Salary by company location"
   ]
  },
  {
   "cell_type": "markdown",
   "id": "38118c75",
   "metadata": {},
   "source": [
    "<div>\n",
    "<img src=\"Images/Salary_by_company_location.png\" width=\"1300\"\">\n",
    "</div>"
   ]
  },
  {
   "cell_type": "markdown",
   "id": "a54b25ff",
   "metadata": {},
   "source": [
    "Only countries with a significant amount of data were plotted. Overall, north american and japanese companies are the ones that pay the most, followed by west european ones. Inside west Europe, United Kingdom companies have the highest salaries, followed by Germany, Netherlands, Austria and France. South European companies have the lowest salaries (which is consistent with their lower standard of living)."
   ]
  },
  {
   "cell_type": "markdown",
   "id": "1cd5386a",
   "metadata": {},
   "source": [
    "# Prediction"
   ]
  },
  {
   "cell_type": "code",
   "execution_count": 1,
   "id": "60cfd078",
   "metadata": {},
   "outputs": [],
   "source": [
    "import pandas as pd\n",
    "import numpy as np\n",
    "import pickle"
   ]
  },
  {
   "cell_type": "code",
   "execution_count": 2,
   "id": "8c6ec355",
   "metadata": {},
   "outputs": [],
   "source": [
    "df = pd.read_csv('Data/data_science_jobs_dataset.csv')"
   ]
  },
  {
   "cell_type": "code",
   "execution_count": 3,
   "id": "ab49fc01",
   "metadata": {},
   "outputs": [],
   "source": [
    "df.drop('salary_in_usd',axis=1,inplace=True)"
   ]
  },
  {
   "cell_type": "code",
   "execution_count": 4,
   "id": "234864d3",
   "metadata": {},
   "outputs": [],
   "source": [
    "df['work_year'] = df['work_year'].astype(\"string\")\n",
    "df['remote_ratio'] = df['remote_ratio'].astype(\"string\")"
   ]
  },
  {
   "cell_type": "code",
   "execution_count": 5,
   "id": "936dfeb0",
   "metadata": {},
   "outputs": [],
   "source": [
    "df.drop('employment_type', axis=1, inplace=True)"
   ]
  },
  {
   "cell_type": "code",
   "execution_count": 6,
   "id": "23e333fe",
   "metadata": {},
   "outputs": [],
   "source": [
    "job_title_cat = df.groupby('job_title')['job_title'].agg('count').sort_values(ascending=False)\n",
    "job_title_cat_other = job_title_cat[job_title_cat<=3]\n",
    "df.job_title = df.job_title.apply(lambda x: 'other' if x in job_title_cat_other else x )"
   ]
  },
  {
   "cell_type": "code",
   "execution_count": 7,
   "id": "2ea462fd",
   "metadata": {},
   "outputs": [],
   "source": [
    "emp_res_cat = df.groupby('employee_residence')['employee_residence'].agg('count').sort_values(ascending=False)\n",
    "emp_res_cat_other = emp_res_cat[emp_res_cat<=2]\n",
    "df.employee_residence = df.employee_residence.apply(lambda x: 'other' if x in emp_res_cat_other else x )"
   ]
  },
  {
   "cell_type": "code",
   "execution_count": 8,
   "id": "50d81cb3",
   "metadata": {},
   "outputs": [],
   "source": [
    "com_loc_cat = df.groupby('company_location')['company_location'].agg('count').sort_values(ascending=False)\n",
    "com_loc_cat_other = com_loc_cat[com_loc_cat<=2]\n",
    "df.company_location = df.company_location.apply(lambda x: 'other' if x in com_loc_cat_other else x )"
   ]
  },
  {
   "cell_type": "code",
   "execution_count": 9,
   "id": "6f9f2cf4",
   "metadata": {},
   "outputs": [],
   "source": [
    "from sklearn.model_selection import train_test_split"
   ]
  },
  {
   "cell_type": "code",
   "execution_count": 10,
   "id": "17411222",
   "metadata": {},
   "outputs": [],
   "source": [
    "train_data, test_data = train_test_split(df,test_size=0.2)"
   ]
  },
  {
   "cell_type": "code",
   "execution_count": 11,
   "id": "b23d27f7",
   "metadata": {},
   "outputs": [],
   "source": [
    "train = df.drop('salary',axis=1)\n",
    "train_labels = df['salary']"
   ]
  },
  {
   "cell_type": "code",
   "execution_count": 12,
   "id": "aa9c2d46",
   "metadata": {},
   "outputs": [],
   "source": [
    "from sklearn.preprocessing import OneHotEncoder\n",
    "from sklearn.pipeline import Pipeline\n",
    "\n",
    "pipeline = Pipeline([\n",
    "    ('one_hot_cat',OneHotEncoder())\n",
    "])\n",
    " \n",
    "\n",
    "train_pipelined = pipeline.fit_transform(train)"
   ]
  },
  {
   "cell_type": "code",
   "execution_count": 13,
   "id": "0ab209a2",
   "metadata": {},
   "outputs": [],
   "source": [
    "test = test_data.drop('salary',axis=1)\n",
    "test_labels = test_data['salary']"
   ]
  },
  {
   "cell_type": "code",
   "execution_count": 14,
   "id": "59033e3a",
   "metadata": {
    "scrolled": true
   },
   "outputs": [],
   "source": [
    "test_pipelined = pipeline.transform(test)"
   ]
  },
  {
   "cell_type": "code",
   "execution_count": 15,
   "id": "930d5b17",
   "metadata": {},
   "outputs": [
    {
     "data": {
      "text/plain": [
       "DecisionTreeRegressor()"
      ]
     },
     "execution_count": 15,
     "metadata": {},
     "output_type": "execute_result"
    }
   ],
   "source": [
    "from sklearn.tree import DecisionTreeRegressor\n",
    "tree_reg = DecisionTreeRegressor()\n",
    "\n",
    "tree_reg.fit(train_pipelined,train_labels)"
   ]
  },
  {
   "cell_type": "code",
   "execution_count": 16,
   "id": "641a01da",
   "metadata": {},
   "outputs": [
    {
     "data": {
      "text/plain": [
       "0.9998920893160212"
      ]
     },
     "execution_count": 16,
     "metadata": {},
     "output_type": "execute_result"
    }
   ],
   "source": [
    "tree_reg.score(test_pipelined,test_labels)"
   ]
  },
  {
   "cell_type": "code",
   "execution_count": 17,
   "id": "0bca71f2",
   "metadata": {},
   "outputs": [],
   "source": [
    "df_pipelined = pipeline.transform(df.drop('salary', axis=1))"
   ]
  },
  {
   "cell_type": "code",
   "execution_count": 18,
   "id": "482d8f02",
   "metadata": {},
   "outputs": [],
   "source": [
    "df[\"prediction\"] = tree_reg.predict(df_pipelined)"
   ]
  },
  {
   "cell_type": "code",
   "execution_count": 44,
   "id": "7adec3b7",
   "metadata": {},
   "outputs": [
    {
     "data": {
      "text/plain": [
       "<811x110 sparse matrix of type '<class 'numpy.float64'>'\n",
       "\twith 6488 stored elements in Compressed Sparse Row format>"
      ]
     },
     "execution_count": 44,
     "metadata": {},
     "output_type": "execute_result"
    }
   ],
   "source": [
    "df_pipelined"
   ]
  },
  {
   "cell_type": "code",
   "execution_count": 45,
   "id": "e92c5aed",
   "metadata": {},
   "outputs": [
    {
     "data": {
      "text/plain": [
       "<811x110 sparse matrix of type '<class 'numpy.float64'>'\n",
       "\twith 6488 stored elements in Compressed Sparse Row format>"
      ]
     },
     "execution_count": 45,
     "metadata": {},
     "output_type": "execute_result"
    }
   ],
   "source": [
    "train_pipelined"
   ]
  },
  {
   "cell_type": "code",
   "execution_count": 46,
   "id": "8874059f",
   "metadata": {},
   "outputs": [
    {
     "data": {
      "text/plain": [
       "<163x110 sparse matrix of type '<class 'numpy.float64'>'\n",
       "\twith 1304 stored elements in Compressed Sparse Row format>"
      ]
     },
     "execution_count": 46,
     "metadata": {},
     "output_type": "execute_result"
    }
   ],
   "source": [
    "test_pipelined"
   ]
  },
  {
   "cell_type": "code",
   "execution_count": 20,
   "id": "5829f8e1",
   "metadata": {},
   "outputs": [
    {
     "data": {
      "text/plain": [
       "work_year              string\n",
       "experience_level       object\n",
       "job_title              object\n",
       "salary                  int64\n",
       "salary_currency        object\n",
       "employee_residence     object\n",
       "remote_ratio           string\n",
       "company_location       object\n",
       "company_size           object\n",
       "prediction            float64\n",
       "dtype: object"
      ]
     },
     "execution_count": 20,
     "metadata": {},
     "output_type": "execute_result"
    }
   ],
   "source": [
    "df.dtypes"
   ]
  },
  {
   "cell_type": "code",
   "execution_count": 26,
   "id": "dc91166f",
   "metadata": {},
   "outputs": [],
   "source": [
    "pickle.dump(tree_reg, open(\"Predictive_model/tree_regressor.p\",\"wb\"))"
   ]
  },
  {
   "cell_type": "code",
   "execution_count": 23,
   "id": "e9c30283",
   "metadata": {},
   "outputs": [],
   "source": [
    "### pickle.load(open(\"Predictive_model/tree_regressor.p\",\"rb\"))"
   ]
  },
  {
   "cell_type": "code",
   "execution_count": 50,
   "id": "931ef102",
   "metadata": {},
   "outputs": [
    {
     "data": {
      "text/plain": [
       "Pipeline(steps=[('one_hot_cat', OneHotEncoder())])"
      ]
     },
     "execution_count": 50,
     "metadata": {},
     "output_type": "execute_result"
    }
   ],
   "source": [
    "pipeline"
   ]
  },
  {
   "cell_type": "code",
   "execution_count": 49,
   "id": "58def514",
   "metadata": {},
   "outputs": [
    {
     "data": {
      "text/plain": [
       "sklearn.preprocessing._encoders.OneHotEncoder"
      ]
     },
     "execution_count": 49,
     "metadata": {},
     "output_type": "execute_result"
    }
   ],
   "source": [
    "OneHotEncoder"
   ]
  },
  {
   "cell_type": "code",
   "execution_count": 51,
   "id": "1470ad73",
   "metadata": {},
   "outputs": [],
   "source": [
    "pickle.dump(pipeline, open(\"Predictive_model/pipeline.p\",\"wb\"))"
   ]
  },
  {
   "cell_type": "code",
   "execution_count": null,
   "id": "1312eb77",
   "metadata": {},
   "outputs": [],
   "source": []
  }
 ],
 "metadata": {
  "kernelspec": {
   "display_name": "Python 3 (ipykernel)",
   "language": "python",
   "name": "python3"
  },
  "language_info": {
   "codemirror_mode": {
    "name": "ipython",
    "version": 3
   },
   "file_extension": ".py",
   "mimetype": "text/x-python",
   "name": "python",
   "nbconvert_exporter": "python",
   "pygments_lexer": "ipython3",
   "version": "3.9.12"
  }
 },
 "nbformat": 4,
 "nbformat_minor": 5
}
