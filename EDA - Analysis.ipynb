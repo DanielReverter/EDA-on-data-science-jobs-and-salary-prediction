{
 "cells": [
  {
   "cell_type": "markdown",
   "id": "9ece2505",
   "metadata": {},
   "source": [
    "# Analysis"
   ]
  },
  {
   "cell_type": "code",
   "execution_count": 1,
   "id": "eb58665e",
   "metadata": {},
   "outputs": [],
   "source": [
    "# Data modules\n",
    "import pandas as pd"
   ]
  },
  {
   "cell_type": "code",
   "execution_count": 2,
   "id": "363296f8",
   "metadata": {},
   "outputs": [],
   "source": [
    "df = pd.read_csv('Data/cleaned_data_science_jobs_dataset.csv')"
   ]
  },
  {
   "cell_type": "markdown",
   "id": "cc0e2237",
   "metadata": {},
   "source": [
    "## Feature analysis univariate"
   ]
  },
  {
   "cell_type": "markdown",
   "id": "8d3f6e74",
   "metadata": {},
   "source": [
    "### Work Year\n",
    "<div>\n",
    "<img src=\"Images/Work_year.png\" width=\"400\"/>\n",
    "</div>\n",
    "Every year there is a noticeable increase in the number of data in our dataset. More available jobs related to data worldwide could explain a small difference, but the reason for an increase this big is that the data is entered voluntarily, and the site that collects it has been gaining popularity over the last 2 years."
   ]
  },
  {
   "cell_type": "markdown",
   "id": "4b0c7488",
   "metadata": {},
   "source": [
    "### Experience level\n",
    "<div>\n",
    "<img src=\"Images/Experience_level.png\" width=\"700\"/>\n",
    "</div>\n",
    "More than half of the positions are Senior, approximately one out of three are intermediate, one out of seven are junior and only one out of 25 are executive-level positions."
   ]
  },
  {
   "cell_type": "markdown",
   "id": "7d1f4eab",
   "metadata": {},
   "source": [
    "### Employment type\n",
    "<div>\n",
    "<img src=\"Images/Employment_type.png\" width=\"400\"/>\n",
    "</div>\n",
    "Almost every single job listed is a full-time job."
   ]
  },
  {
   "cell_type": "markdown",
   "id": "ba5cdac8",
   "metadata": {},
   "source": [
    "### Job title"
   ]
  },
  {
   "cell_type": "code",
   "execution_count": 3,
   "id": "4ffe9d5d",
   "metadata": {},
   "outputs": [
    {
     "data": {
      "text/plain": [
       "52"
      ]
     },
     "execution_count": 3,
     "metadata": {},
     "output_type": "execute_result"
    }
   ],
   "source": [
    "len(df[\"job_title\"].unique()) #How many job titles are in the dataset"
   ]
  },
  {
   "cell_type": "markdown",
   "id": "b354eadd",
   "metadata": {},
   "source": [
    "<div>\n",
    "<img src=\"Images/Job_title.png\" width=\"900\"/>\n",
    "</div>\n",
    "There are 52 unique job titles. Some of them are very niche, so we will focus on the 10 most common. The vast majority of data-related employees are either Data Engineers, Data Scientists, Data Analysts or Machine Learning Engineers; over 80% of all job titles fall in these 4 categories."
   ]
  },
  {
   "cell_type": "markdown",
   "id": "bd5ba031",
   "metadata": {},
   "source": [
    "### Salary (USD)\n",
    "<div>\n",
    "<img src=\"Images/Salary.png\" width=\"500\"/>\n",
    "</div>\n",
    "<div>\n",
    "<img src=\"Images/Salary_2.png\" width=\"1000\"/>\n",
    "</div>\n",
    "The first graph shows that there is a large number of outliers in our dataset. The maximum salary is 900k\\$ per year! \n",
    "\n",
    "The second graph is the same boxplot as the first with the outliers filtered out, to make it easier to understand. There we can see that half of all the salaries are between 57k\\\\$ and 143k\\\\$ (first and third quartiles), with the median being at around 95k\\\\$.\n",
    "\n",
    "The third graph, a bar plot of binned salaries (each bin having a range of 30k\\\\$) shows that the salaries follow a distribution close to normal, with some outliers and with an obvious lower bound of 0\\\\$. The mean of this distribution should be in the 90k-120k\\\\$ bin, which will be checked in the next block of code:"
   ]
  },
  {
   "cell_type": "code",
   "execution_count": 4,
   "id": "588e0812",
   "metadata": {},
   "outputs": [
    {
     "name": "stdout",
     "output_type": "stream",
     "text": [
      "The mean of all salaries is 118856.37$\n"
     ]
    }
   ],
   "source": [
    "mean = round(df[\"salary_in_usd\"].mean(),2)\n",
    "print(f\"The mean of all salaries is {mean}$\")"
   ]
  },
  {
   "cell_type": "markdown",
   "id": "1e5b2e48",
   "metadata": {},
   "source": [
    "As expected, the mean falls in that bin. Lets check its value if we drop the outliers:"
   ]
  },
  {
   "cell_type": "code",
   "execution_count": 5,
   "id": "d44fefbd",
   "metadata": {},
   "outputs": [
    {
     "name": "stdout",
     "output_type": "stream",
     "text": [
      "The mean of salaries (excluding outliers) is 86997.91$\n"
     ]
    }
   ],
   "source": [
    "mean = round(df[(df[\"salary_in_usd\"] < df[\"salary_in_usd\"].quantile(0.75))][\"salary_in_usd\"].mean(),2)\n",
    "print(f\"The mean of salaries (excluding outliers) is {mean}$\")"
   ]
  },
  {
   "cell_type": "markdown",
   "id": "d71499ac",
   "metadata": {},
   "source": [
    "### Employee residence"
   ]
  },
  {
   "cell_type": "code",
   "execution_count": 6,
   "id": "5517aca3",
   "metadata": {},
   "outputs": [
    {
     "data": {
      "text/plain": [
       "62"
      ]
     },
     "execution_count": 6,
     "metadata": {},
     "output_type": "execute_result"
    }
   ],
   "source": [
    "len(df[\"employee_residence\"].unique()) #How many countries are in the dataset"
   ]
  },
  {
   "cell_type": "markdown",
   "id": "c7d8593a",
   "metadata": {},
   "source": [
    "<div>\n",
    "<img src=\"Images/Employee_residence.png\" width=\"900\"/>\n",
    "</div>\n",
    "As with job titles, there are too many employee countries of residence to show in a graph (62), so only the 10 most common ones were plotted. The vast majority of our data (68.5%) comes from the United States."
   ]
  },
  {
   "cell_type": "markdown",
   "id": "292ac2cd",
   "metadata": {},
   "source": [
    "### Remote Ratio\n",
    "<div>\n",
    "<img src=\"Images/Remote_work.png\" width=\"500\"/>\n",
    "</div>\n",
    "Interestingly, more than half of all the jobs are fully remote. Later we will see the evolution over time of this percentage, to see wether covid has had any impact on it."
   ]
  },
  {
   "cell_type": "markdown",
   "id": "1b594ff2",
   "metadata": {},
   "source": [
    "### Company Location\n",
    "<div>\n",
    "<img src=\"Images/Company_location.png\" width=\"900\"/>\n",
    "</div>\n",
    "Similarly to employee residence, the country with the greater amount of jobs is by far the United States, with over 70% of all the share. The difference in percentage between company location and employee residence (1.5% in the case of USA) is explained by people working remotely from other countries. This phenomenon will be explored in more detail later."
   ]
  },
  {
   "cell_type": "markdown",
   "id": "a69cfba8",
   "metadata": {},
   "source": [
    "### Company Size\n",
    "<div>\n",
    "<img src=\"Images/Company_size.png\" width=\"700\"/>\n",
    "</div>\n",
    "Medium companies (companies with more than 50 employees but less than 250 employees) make up more than half of all companies in the data."
   ]
  },
  {
   "cell_type": "markdown",
   "id": "61db7e37",
   "metadata": {},
   "source": [
    "## Feature analysis multivariate"
   ]
  },
  {
   "cell_type": "markdown",
   "id": "c1b5a6e2",
   "metadata": {},
   "source": [
    "### Experience level by job title\n",
    "<div>\n",
    "<img src=\"Images/Experience_level_by_job_title.png\" width=\"900\"/>\n",
    "</div>\n",
    "This bar plot is the same as the one shown before in the job titles section, but this time only the 8 most common job titles are shown, and each job is split by experience level (junior, mid, senior and executive). Inside each job title the percentage of each experience level (regarding that specific job title) is shown as text. \n",
    "\n",
    "The jobs with the biggest percentage of juniors are Research Scientists, Machine Learning Engineers, Data Scientists and Data Analysts.\n",
    "\n",
    "The biggest percentage of intermediate level employees are in Research Science, Data Science and Data Engineering jobs\n",
    "\n",
    "Seniors are the biggest percentage in Data Architecture and Data Science Managing jobs.\n",
    "\n",
    "Executives occupy the biggest percentage as Analytics Engineers and Data Science Managers."
   ]
  },
  {
   "cell_type": "markdown",
   "id": "78ef4812",
   "metadata": {},
   "source": [
    "### Company size by job title\n",
    "<div>\n",
    "<img src=\"Images/Company_size_by_job_title.png\" width=\"1000\">\n",
    "</div>\n",
    "Without taking job title into account, company size percentages are 30% large, 58% medium and 12% small. Taking this into account, the most noticeable insights that follow from this graph are:\n",
    "\n",
    "- Small companies don't seem to need Data Engineers, Data Managers or Data Architects.\n",
    "- Medium companies have a large percentage of Data Analysts, Data Architects and Analytics Engineers.\n",
    "- Large companies require an unusualy large amount of Research Scientists (compared to small and medium companies)."
   ]
  },
  {
   "cell_type": "markdown",
   "id": "ecd34cc5",
   "metadata": {},
   "source": [
    "### Remote ratio by work year\n",
    "<div>\n",
    "<img src=\"Images/Remote_ratio_by_work_year.png\" width=\"900\"/>\n",
    "</div>\n",
    "<div>\n",
    "<img src=\"Images/Remote_ratio_by_work_year_2.png\" width=\"800\" style=\"float: left; margin-right: 150px;\"/>\n",
    "</div>\n",
    "During the last 2 years the percentage of people working either 100% remote or doing no remote work at all has increased considerably at the expense of people working partially remote. This could be attributed to a large number of companies trying some degree of remote work for their employees for the first time during the most severe stage of the covid pandemic (2020-2021). Then by 2022 each company already decided if they wanted to focus on remote work or not."
   ]
  },
  {
   "cell_type": "markdown",
   "id": "ea98947a",
   "metadata": {},
   "source": [
    "### Remote Ratio by experience level\n",
    "<div>\n",
    "<img src=\"Images/Remote_ratio_by_experience_level.png\" width=\"800\">\n",
    "</div>\n",
    "There is no significant difference in remote ratio for each experience level."
   ]
  },
  {
   "cell_type": "markdown",
   "id": "984e03ec",
   "metadata": {},
   "source": [
    "### Remote Ratio by company size\n",
    "<div>\n",
    "<img src=\"Images/Remote_ratio_by_company_size.png\" width=\"1000\">\n",
    "</div>\n",
    "There is no significant difference to remote ratio for each company size."
   ]
  },
  {
   "cell_type": "markdown",
   "id": "c1131047",
   "metadata": {},
   "source": [
    "### Of all employees working abroad, how many are in each country (in % of total)\n",
    "<div>\n",
    "<img src=\"Images/Percent_of_abroad.png\" width=\"900\">\n",
    "</div>\n",
    "Not to be confused with percentage of people working from abroad for each country, this graph shows how many of all the people working from abroad are in each country. Almost half of the people working abroad work in the USA, around 10% in the UK and around 10% in germany. Therefore, someone looking to work abroad should start applying for jobs in those countries."
   ]
  },
  {
   "cell_type": "markdown",
   "id": "fe22c983",
   "metadata": {},
   "source": [
    "### Experience level by company size\n",
    "<div>\n",
    "<img src=\"Images/Experience_level_by_company_size.png\" width=\"900\">\n",
    "</div>\n",
    "Small companies have the largest percentage of junior employees, while medium companies havealmost no junior employees at all. For someone wanting to start a career in data it would be advisable to focus on applying to either small or large companies."
   ]
  },
  {
   "cell_type": "markdown",
   "id": "f0a25c3e",
   "metadata": {},
   "source": [
    "### Salary by work year\n",
    "<div>\n",
    "<img src=\"Images/Salary_by_work_year.png\" width=\"450\">\n",
    "</div>\n",
    "Last year (2022) there has been a significant improvement on salaries, with 50% of the salaries being in the range of around 80k\\\\$ to 160k\\\\$, compared to 2021's interquartile range of around 50k\\\\$ to 130k\\\\$."
   ]
  },
  {
   "cell_type": "markdown",
   "id": "d497fdea",
   "metadata": {},
   "source": [
    "### Salary by experience level\n",
    "<div>\n",
    "<img src=\"Images/Salary_by_experience_level.png\" width=\"1300\">\n",
    "</div>\n",
    "All salary by experience level histograms are shaped like normal distributions (except for junior, which is clearly affected by the lower bound of 0). The mean is clearly increasing with exerience level, but the difference between senior and executive level salaries doesn't appear to be that much. This is partly due to dropping the outliers prior to drawing the plot: most of these outliers are people working as executives."
   ]
  },
  {
   "cell_type": "markdown",
   "id": "c4ae016b",
   "metadata": {},
   "source": [
    "### Salary by job title\n",
    "<div>\n",
    "<img src=\"Images/Salary_by_job_title.png\" width=\"1300\">\n",
    "</div>\n",
    "Jobs in this list can be separated into 3 groups:\n",
    "\n",
    "- Least paying jobs: Research scientists are by far the least paying job. Their interquartile range is the lowest and it's width also is (meaning there is not much variation within those salaries). Its median is about 60k\\\\$.\n",
    "- Mid paying jobs: Data Engineers, Data Scientists and Data Analysts are not only the most common titles in data related jobs but their salaries are also the most average. There is a small difference between them, with Engineers earning more than Scientists, and them earning more than Analysts.\n",
    "- Top paying jobs: Data Science Manager, Data Architect and Analytics Engineer are managing positions. As we've seen before, most of them are seniors or executives and as such have larger payrolls."
   ]
  },
  {
   "cell_type": "markdown",
   "id": "08a7f5a7",
   "metadata": {},
   "source": [
    "### Salary by company size\n",
    "<div>\n",
    "<img src=\"Images/Salary_by_company_size.png\" width=\"500\">\n",
    "</div>\n",
    "There is not a big difference in salaries between large and medium companies, but small companies have significantly lower salaries."
   ]
  },
  {
   "cell_type": "markdown",
   "id": "c02c9f5d",
   "metadata": {},
   "source": [
    "### Salary by company location\n",
    "<div>\n",
    "<img src=\"Images/Salary_by_company_location.png\" width=\"1300\">\n",
    "</div>\n",
    "Only countries with a significant amount of data were plotted. Overall, north american and japanese companies are the ones that pay the most, followed by west european ones. Inside west Europe, United Kingdom companies have the highest salaries, followed by Germany, Netherlands, Austria and France. South European companies have the lowest salaries (which is consistent with their lower standard of living)."
   ]
  }
 ],
 "metadata": {
  "kernelspec": {
   "display_name": "Python 3 (ipykernel)",
   "language": "python",
   "name": "python3"
  },
  "language_info": {
   "codemirror_mode": {
    "name": "ipython",
    "version": 3
   },
   "file_extension": ".py",
   "mimetype": "text/x-python",
   "name": "python",
   "nbconvert_exporter": "python",
   "pygments_lexer": "ipython3",
   "version": "3.9.12"
  }
 },
 "nbformat": 4,
 "nbformat_minor": 5
}
