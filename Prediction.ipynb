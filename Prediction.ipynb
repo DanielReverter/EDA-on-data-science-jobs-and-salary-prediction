{
 "cells": [
  {
   "cell_type": "markdown",
   "id": "1cd5386a",
   "metadata": {},
   "source": [
    "# Prediction"
   ]
  },
  {
   "cell_type": "code",
   "execution_count": 12,
   "id": "60cfd078",
   "metadata": {},
   "outputs": [],
   "source": [
    "#Data modules\n",
    "import pandas as pd"
   ]
  },
  {
   "cell_type": "code",
   "execution_count": 13,
   "id": "8c6ec355",
   "metadata": {},
   "outputs": [],
   "source": [
    "df = pd.read_csv('Data/data_science_jobs_dataset.csv')"
   ]
  },
  {
   "cell_type": "code",
   "execution_count": 14,
   "id": "ab49fc01",
   "metadata": {},
   "outputs": [],
   "source": [
    "df.drop('salary_in_usd',axis=1,inplace=True)"
   ]
  },
  {
   "cell_type": "code",
   "execution_count": 15,
   "id": "234864d3",
   "metadata": {},
   "outputs": [],
   "source": [
    "df['work_year'] = df['work_year'].astype(\"string\")\n",
    "df['remote_ratio'] = df['remote_ratio'].astype(\"string\")"
   ]
  },
  {
   "cell_type": "code",
   "execution_count": 16,
   "id": "936dfeb0",
   "metadata": {},
   "outputs": [],
   "source": [
    "df.drop('employment_type', axis=1, inplace=True)"
   ]
  },
  {
   "cell_type": "code",
   "execution_count": 17,
   "id": "23e333fe",
   "metadata": {},
   "outputs": [],
   "source": [
    "job_title_cat = df.groupby('job_title')['job_title'].agg('count').sort_values(ascending=False)\n",
    "job_title_cat_other = job_title_cat[job_title_cat<=3]\n",
    "df.job_title = df.job_title.apply(lambda x: 'other' if x in job_title_cat_other else x )"
   ]
  },
  {
   "cell_type": "code",
   "execution_count": 18,
   "id": "2ea462fd",
   "metadata": {},
   "outputs": [],
   "source": [
    "emp_res_cat = df.groupby('employee_residence')['employee_residence'].agg('count').sort_values(ascending=False)\n",
    "emp_res_cat_other = emp_res_cat[emp_res_cat<=2]\n",
    "df.employee_residence = df.employee_residence.apply(lambda x: 'other' if x in emp_res_cat_other else x )"
   ]
  },
  {
   "cell_type": "code",
   "execution_count": 19,
   "id": "50d81cb3",
   "metadata": {},
   "outputs": [],
   "source": [
    "com_loc_cat = df.groupby('company_location')['company_location'].agg('count').sort_values(ascending=False)\n",
    "com_loc_cat_other = com_loc_cat[com_loc_cat<=2]\n",
    "df.company_location = df.company_location.apply(lambda x: 'other' if x in com_loc_cat_other else x )"
   ]
  },
  {
   "cell_type": "code",
   "execution_count": 20,
   "id": "6f9f2cf4",
   "metadata": {},
   "outputs": [],
   "source": [
    "from sklearn.model_selection import train_test_split"
   ]
  },
  {
   "cell_type": "code",
   "execution_count": 21,
   "id": "17411222",
   "metadata": {},
   "outputs": [],
   "source": [
    "train_data, test_data = train_test_split(df,test_size=0.2)"
   ]
  },
  {
   "cell_type": "code",
   "execution_count": 22,
   "id": "b23d27f7",
   "metadata": {},
   "outputs": [],
   "source": [
    "train = df.drop('salary',axis=1)\n",
    "train_labels = df['salary']"
   ]
  },
  {
   "cell_type": "code",
   "execution_count": 23,
   "id": "aa9c2d46",
   "metadata": {},
   "outputs": [],
   "source": [
    "from sklearn.preprocessing import OneHotEncoder\n",
    "from sklearn.pipeline import Pipeline\n",
    "\n",
    "pipeline = Pipeline([\n",
    "    ('one_hot_cat',OneHotEncoder())\n",
    "])\n",
    " \n",
    "\n",
    "train_pipelined = pipeline.fit_transform(train)"
   ]
  },
  {
   "cell_type": "code",
   "execution_count": 24,
   "id": "0ab209a2",
   "metadata": {},
   "outputs": [],
   "source": [
    "test = test_data.drop('salary',axis=1)\n",
    "test_labels = test_data['salary']"
   ]
  },
  {
   "cell_type": "code",
   "execution_count": 25,
   "id": "59033e3a",
   "metadata": {
    "scrolled": true
   },
   "outputs": [],
   "source": [
    "test_pipelined = pipeline.transform(test)"
   ]
  },
  {
   "cell_type": "code",
   "execution_count": 26,
   "id": "930d5b17",
   "metadata": {},
   "outputs": [
    {
     "data": {
      "text/plain": [
       "DecisionTreeRegressor()"
      ]
     },
     "execution_count": 26,
     "metadata": {},
     "output_type": "execute_result"
    }
   ],
   "source": [
    "from sklearn.tree import DecisionTreeRegressor\n",
    "tree_reg = DecisionTreeRegressor()\n",
    "\n",
    "tree_reg.fit(train_pipelined,train_labels)"
   ]
  },
  {
   "cell_type": "code",
   "execution_count": 27,
   "id": "641a01da",
   "metadata": {},
   "outputs": [
    {
     "data": {
      "text/plain": [
       "0.9946181543112581"
      ]
     },
     "execution_count": 27,
     "metadata": {},
     "output_type": "execute_result"
    }
   ],
   "source": [
    "tree_reg.score(test_pipelined,test_labels)"
   ]
  },
  {
   "cell_type": "code",
   "execution_count": 28,
   "id": "41ae510f",
   "metadata": {},
   "outputs": [],
   "source": [
    "import pickle\n",
    "pickle.dump(pipeline, open(\"Predictive_model/pipeline.p\",\"wb\"))\n",
    "pickle.dump(tree_reg, open(\"Predictive_model/tree_regressor.p\",\"wb\"))"
   ]
  }
 ],
 "metadata": {
  "kernelspec": {
   "display_name": "Python 3 (ipykernel)",
   "language": "python",
   "name": "python3"
  },
  "language_info": {
   "codemirror_mode": {
    "name": "ipython",
    "version": 3
   },
   "file_extension": ".py",
   "mimetype": "text/x-python",
   "name": "python",
   "nbconvert_exporter": "python",
   "pygments_lexer": "ipython3",
   "version": "3.9.12"
  }
 },
 "nbformat": 4,
 "nbformat_minor": 5
}
